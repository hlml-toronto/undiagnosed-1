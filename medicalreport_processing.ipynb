{
 "cells": [
  {
   "cell_type": "code",
   "execution_count": 57,
   "metadata": {},
   "outputs": [],
   "source": [
    "import matplotlib.pyplot as plt\n",
    "import numpy as np\n",
    "import os\n",
    "import pickle"
   ]
  },
  {
   "cell_type": "code",
   "execution_count": 33,
   "metadata": {},
   "outputs": [
    {
     "name": "stdout",
     "output_type": "stream",
     "text": [
      "<class 'list'> <class 'list'> <class 'list'> <class 'list'>\n",
      "322 4442 4442 322\n"
     ]
    }
   ],
   "source": [
    "fname_symptom = 'databases' + os.sep + 'symptom_features.p'\n",
    "fname_disease = 'databases' + os.sep + 'disease_labels.p'\n",
    "fname_arr = 'databases' + os.sep + 'hsdn.p'\n",
    "\n",
    "def read_pickle(fname):\n",
    "    with open(fname, 'rb') as f:\n",
    "        x = pickle.load(f)\n",
    "    return x\n",
    "\n",
    "symptoms = read_pickle(fname_symptom)\n",
    "diseases = read_pickle(fname_disease)\n",
    "symptom_disease_arr = read_pickle(fname_arr)\n",
    "print(type(symptoms), type(diseases), type(symptom_disease_arr), type(symptom_disease_arr[0]))\n",
    "print(len(symptoms), len(diseases), len(symptom_disease_arr), len(symptom_disease_arr[0]))"
   ]
  },
  {
   "cell_type": "code",
   "execution_count": 16,
   "metadata": {},
   "outputs": [],
   "source": [
    "# these are stored already symptoms_excel = [...]\n",
    "symptoms_manual = ['Body Weight', 'Psychophysiologic Disorders', 'Dyspepsia', 'Cachexia', 'Thinness', 'Polyuria',\n",
    "                   'Vomiting', 'Nausea', 'Abdominal Pain', 'Fatigue', 'Constipation', 'Urinary Bladder, Overactive', \n",
    "                   'Gastroparesis']\n",
    "symptoms_extra = ['Weight Loss', 'Muscle Weakness', 'Urinary Incontinence', 'Muscle Spasticity', 'Muscular Atrophy', \n",
    "                  'Neurologic Manifestations', 'Body Weight changes', 'Anorexia', 'Hyperkinesis', 'Vomiting, Anticipatory', \n",
    "                  'Emaciation'] "
   ]
  },
  {
   "cell_type": "code",
   "execution_count": 87,
   "metadata": {},
   "outputs": [
    {
     "name": "stdout",
     "output_type": "stream",
     "text": [
      "['Vomiting', 'Fatigue', 'Nausea', 'Abdominal Pain', 'Muscle Weakness', 'Arthralgia', 'Thinness', 'Polyuria', 'Gastroparesis']\n",
      "9.0 15.0 24.0\n"
     ]
    }
   ],
   "source": [
    "patient_symptoms_binary_1 = [0.0,0.0,0.0,0.0,0.0,0.0,0.0,0.0,0.0,0.0,0.0,0.0,0.0,0.0,0.0,0.0,0.0,0.0,1.0,0.0,0.0,1.0,0.0,0.0,0.0,0.0,0.0,0.0,0.0,1.0,0.0,1.0,0.0,0.0,0.0,0.0,0.0,0.0,0.0,0.0,0.0,0.0,0.0,0.0,0.0,1.0,0.0,0.0,0.0,0.0,0.0,0.0,0.0,0.0,0.0,0.0,0.0,0.0,0.0,0.0,0.0,0.0,0.0,0.0,0.0,0.0,0.0,0.0,0.0,0.0,0.0,0.0,0.0,0.0,0.0,0.0,0.0,0.0,0.0,0.0,0.0,0.0,0.0,0.0,0.0,0.0,0.0,0.0,0.0,0.0,0.0,0.0,0.0,0.0,0.0,0.0,0.0,0.0,0.0,0.0,0.0,0.0,0.0,0.0,0.0,0.0,0.0,0.0,0.0,1.0,0.0,0.0,0.0,0.0,0.0,0.0,0.0,0.0,0.0,0.0,0.0,0.0,0.0,0.0,0.0,0.0,0.0,0.0,0.0,0.0,0.0,0.0,0.0,0.0,0.0,0.0,1.0,0.0,0.0,0.0,0.0,0.0,0.0,0.0,0.0,0.0,0.0,0.0,0.0,0.0,0.0,0.0,0.0,0.0,0.0,0.0,0.0,0.0,0.0,0.0,0.0,0.0,0.0,0.0,0.0,0.0,1.0,0.0,0.0,0.0,0.0,0.0,0.0,0.0,0.0,0.0,0.0,0.0,0.0,0.0,0.0,0.0,0.0,0.0,0.0,0.0,0.0,0.0,0.0,0.0,0.0,0.0,0.0,0.0,0.0,0.0,0.0,0.0,0.0,0.0,0.0,0.0,0.0,0.0,0.0,0.0,0.0,0.0,1.0,0.0,0.0,0.0,0.0,0.0,0.0,0.0,0.0,0.0,0.0,0.0,0.0,0.0,0.0,0.0,0.0,0.0,0.0,0.0,0.0,0.0,0.0,0.0,0.0,0.0,0.0,0.0,0.0,0.0,0.0,0.0,0.0,0.0,0.0,0.0,0.0,0.0,0.0,0.0,0.0,0.0,0.0,0.0,0.0,0.0,0.0,0.0,0.0,0.0,0.0,0.0,0.0,0.0,0.0,0.0,0.0,0.0,0.0,0.0,0.0,0.0,0.0,0.0,0.0,0.0,0.0,0.0,0.0,0.0,0.0,0.0,0.0,0.0,0.0,0.0,0.0,0.0,0.0,0.0,0.0,0.0,0.0,0.0,0.0,0.0,0.0,0.0,0.0,0.0,0.0,0.0,0.0,0.0,0.0,0.0,0.0,0.0,0.0,0.0,0.0,0.0,0.0,0.0,0.0,0.0,0.0,0.0,0.0,0.0,0.0,0.0,0.0,0.0]\n",
    "patient_symptoms_binary_2 = [i for i in patient_symptoms_binary_1]\n",
    "patient_symptoms_binary_3 = [i for i in patient_symptoms_binary_1]\n",
    "\n",
    "print([symptoms[idx] for idx, val in enumerate(patient_symptoms_binary_1) if val==1.0])\n",
    "\n",
    "for i, symptom in enumerate(symptoms):\n",
    "    if symptom in symptoms_manual:\n",
    "        patient_symptoms_binary_2[i] = 1.0\n",
    "        patient_symptoms_binary_3[i] = 1.0\n",
    "    if symptom in symptoms_extra:\n",
    "        patient_symptoms_binary_3[i] = 1.0\n",
    "\n",
    "print(sum(patient_symptoms_binary_1), sum(patient_symptoms_binary_2), sum(patient_symptoms_binary_3))\n",
    "\n",
    "np.savetxt('patient_symptoms_v1.txt', np.array(patient_symptoms_binary_1), fmt='%d')\n",
    "np.savetxt('patient_symptoms_v2.txt', np.array(patient_symptoms_binary_2), fmt='%d')\n",
    "np.savetxt('patient_symptoms_v3.txt', np.array(patient_symptoms_binary_3), fmt='%d')"
   ]
  },
  {
   "cell_type": "code",
   "execution_count": 80,
   "metadata": {},
   "outputs": [
    {
     "name": "stdout",
     "output_type": "stream",
     "text": [
      "(4442, 322)\n"
     ]
    },
    {
     "ename": "AssertionError",
     "evalue": "",
     "output_type": "error",
     "traceback": [
      "\u001b[1;31m---------------------------------------------------------------------------\u001b[0m",
      "\u001b[1;31mAssertionError\u001b[0m                            Traceback (most recent call last)",
      "\u001b[1;32m<ipython-input-80-330576552d95>\u001b[0m in \u001b[0;36m<module>\u001b[1;34m\u001b[0m\n\u001b[0;32m      5\u001b[0m \u001b[0mn_disease\u001b[0m \u001b[1;33m=\u001b[0m \u001b[0mB\u001b[0m\u001b[1;33m.\u001b[0m\u001b[0mshape\u001b[0m\u001b[1;33m[\u001b[0m\u001b[1;36m0\u001b[0m\u001b[1;33m]\u001b[0m\u001b[1;33m\u001b[0m\u001b[0m\n\u001b[0;32m      6\u001b[0m \u001b[0mn_symptom\u001b[0m \u001b[1;33m=\u001b[0m \u001b[0mB\u001b[0m\u001b[1;33m.\u001b[0m\u001b[0mshape\u001b[0m\u001b[1;33m[\u001b[0m\u001b[1;36m1\u001b[0m\u001b[1;33m]\u001b[0m\u001b[1;33m\u001b[0m\u001b[0m\n\u001b[1;32m----> 7\u001b[1;33m \u001b[1;32massert\u001b[0m \u001b[0mB\u001b[0m\u001b[1;33m.\u001b[0m\u001b[0mshape\u001b[0m\u001b[1;33m[\u001b[0m\u001b[1;36m0\u001b[0m\u001b[1;33m]\u001b[0m \u001b[1;33m==\u001b[0m \u001b[1;36m4219\u001b[0m\u001b[1;33m\u001b[0m\u001b[0m\n\u001b[0m\u001b[0;32m      8\u001b[0m \u001b[1;33m\u001b[0m\u001b[0m\n\u001b[0;32m      9\u001b[0m \u001b[1;32mif\u001b[0m \u001b[0mrow_normalize\u001b[0m\u001b[1;33m:\u001b[0m\u001b[1;33m\u001b[0m\u001b[0m\n",
      "\u001b[1;31mAssertionError\u001b[0m: "
     ]
    }
   ],
   "source": [
    "row_normalize = True\n",
    "B = np.array(symptom_disease_arr)\n",
    "\n",
    "print(B.shape)\n",
    "n_disease = B.shape[0]\n",
    "n_symptom = B.shape[1]\n",
    "assert B.shape[0] == 4219\n",
    "\n",
    "if row_normalize:\n",
    "    row_sums = B.sum(axis=1)\n",
    "    B_norm = B / row_sums[:, numpy.newaxis]\n",
    "    row_sums = B_norm.sum(axis=1)\n",
    "    print (row_sums, np.min(row_sums), np.max(row_sums))"
   ]
  },
  {
   "cell_type": "code",
   "execution_count": 51,
   "metadata": {},
   "outputs": [
    {
     "data": {
      "image/png": "[encoded data removed]",
      "text/plain": [
       "<Figure size 432x288 with 1 Axes>"
      ]
     },
     "metadata": {
      "needs_background": "light"
     },
     "output_type": "display_data"
    },
    {
     "data": {
      "image/png": "[encoded data removed]",
      "text/plain": [
       "<Figure size 432x288 with 1 Axes>"
      ]
     },
     "metadata": {
      "needs_background": "light"
     },
     "output_type": "display_data"
    }
   ],
   "source": [
    "plt.hist(np.dot(B, np.ones(n_symptom)), bins=100)\n",
    "plt.show()\n",
    "\n",
    "plt.hist(np.dot(B.T, np.ones(n_disease)), bins=100)\n",
    "plt.show()"
   ]
  },
  {
   "cell_type": "code",
   "execution_count": 61,
   "metadata": {},
   "outputs": [],
   "source": [
    "diseases_1 = np.dot(B, patient_symptoms_binary_1)\n",
    "diseases_2 = np.dot(B, patient_symptoms_binary_2)\n",
    "diseases_3 = np.dot(B, patient_symptoms_binary_3)\n",
    "\n",
    "sorted_diseases_1 = np.argsort(diseases_1)[::-1]\n",
    "sorted_diseases_2 = np.argsort(diseases_2)[::-1]\n",
    "sorted_diseases_3 = np.argsort(diseases_3)[::-1]"
   ]
  },
  {
   "cell_type": "code",
   "execution_count": 62,
   "metadata": {},
   "outputs": [
    {
     "data": {
      "text/plain": [
       "[<matplotlib.lines.Line2D at 0x1ae1bffe710>]"
      ]
     },
     "execution_count": 62,
     "metadata": {},
     "output_type": "execute_result"
    },
    {
     "data": {
      "image/png": "[encoded data removed]",
      "text/plain": [
       "<Figure size 432x288 with 1 Axes>"
      ]
     },
     "metadata": {
      "needs_background": "light"
     },
     "output_type": "display_data"
    }
   ],
   "source": [
    "plt.plot(diseases_1)"
   ]
  },
  {
   "cell_type": "code",
   "execution_count": 63,
   "metadata": {},
   "outputs": [
    {
     "data": {
      "text/plain": [
       "[<matplotlib.lines.Line2D at 0x1ae1c057438>]"
      ]
     },
     "execution_count": 63,
     "metadata": {},
     "output_type": "execute_result"
    },
    {
     "data": {
      "image/png": "[encoded data removed]",
      "text/plain": [
       "<Figure size 432x288 with 1 Axes>"
      ]
     },
     "metadata": {
      "needs_background": "light"
     },
     "output_type": "display_data"
    }
   ],
   "source": [
    "plt.plot(diseases_2)"
   ]
  },
  {
   "cell_type": "code",
   "execution_count": 64,
   "metadata": {},
   "outputs": [
    {
     "data": {
      "text/plain": [
       "[<matplotlib.lines.Line2D at 0x1ae1be76710>]"
      ]
     },
     "execution_count": 64,
     "metadata": {},
     "output_type": "execute_result"
    },
    {
     "data": {
      "image/png": "[encoded data removed]",
      "text/plain": [
       "<Figure size 432x288 with 1 Axes>"
      ]
     },
     "metadata": {
      "needs_background": "light"
     },
     "output_type": "display_data"
    }
   ],
   "source": [
    "plt.plot(diseases_3)"
   ]
  },
  {
   "cell_type": "code",
   "execution_count": 83,
   "metadata": {},
   "outputs": [
    {
     "name": "stdout",
     "output_type": "stream",
     "text": [
      "Diseases from symptom vector #1\n",
      "Rank 0 Muscle Weakness 3023.1132291246936\n",
      "Rank 1 Gastroparesis 2304.236066212014\n",
      "Rank 2 Arthralgia 2252.622947671553\n",
      "Rank 3 Obesity 1868.3582066763345\n",
      "Rank 4 Paresis 1453.5930037150506\n",
      "Rank 5 Polyuria 1414.1799426971006\n",
      "Rank 6 Breast Neoplasms 1050.7701033409373\n",
      "Rank 7 Cerebral Infarction 877.6364110422471\n",
      "Rank 8 Pain 855.5552781656874\n",
      "Rank 9 Stroke 730.8866932059458\n",
      "\n",
      "Diseases from symptom vector #2\n",
      "Rank 0 Obesity 4827.9648796983065\n",
      "Rank 1 Urinary Bladder, Overactive 4269.180271202828\n",
      "Rank 2 Muscle Weakness 3048.0408785207755\n",
      "Rank 3 Helicobacter Infections 3022.382085918882\n",
      "Rank 4 Gastroparesis 2406.636658476049\n",
      "Rank 5 Arthralgia 2259.4617656212026\n",
      "Rank 6 Pain 1962.3625204694215\n",
      "Rank 7 Gastrointestinal Diseases 1934.3256265190378\n",
      "Rank 8 Hypertension 1653.908246454018\n",
      "Rank 9 Paresis 1458.3843640784544\n",
      "\n",
      "Diseases from symptom vector #3\n",
      "Rank 0 Urinary Incontinence 11538.351616026423\n",
      "Rank 1 Obesity 9880.138219845838\n",
      "Rank 2 Muscular Atrophy 5907.074652428861\n",
      "Rank 3 Muscle Spasticity 4602.6045294405985\n",
      "Rank 4 Urinary Bladder, Overactive 4551.353847558183\n",
      "Rank 5 Hyperkinesis 4152.245815440909\n",
      "Rank 6 Muscle Weakness 3347.387648200314\n",
      "Rank 7 Helicobacter Infections 3032.475558236523\n",
      "Rank 8 Gastroparesis 2413.287340838101\n",
      "Rank 9 Arthralgia 2275.377738627177\n"
     ]
    }
   ],
   "source": [
    "print(\"Diseases from symptom vector #1\")\n",
    "for idx in range(10):\n",
    "    print('Rank %d' % idx, diseases[sorted_diseases_1[idx]], diseases_1[sorted_diseases_1[idx]])\n",
    "    \n",
    "print(\"\\nDiseases from symptom vector #2\")\n",
    "for idx in range(10):\n",
    "    print('Rank %d' % idx, diseases[sorted_diseases_2[idx]], diseases_2[sorted_diseases_2[idx]])\n",
    "    \n",
    "print(\"\\nDiseases from symptom vector #3\")\n",
    "for idx in range(10):\n",
    "    print('Rank %d' % idx, diseases[sorted_diseases_3[idx]], diseases_3[sorted_diseases_3[idx]])"
   ]
  },
  {
   "cell_type": "code",
   "execution_count": null,
   "metadata": {},
   "outputs": [],
   "source": []
  }
 ],
 "metadata": {
  "kernelspec": {
   "display_name": "Python 3",
   "language": "python",
   "name": "python3"
  },
  "language_info": {
   "codemirror_mode": {
    "name": "ipython",
    "version": 3
   },
   "file_extension": ".py",
   "mimetype": "text/x-python",
   "name": "python",
   "nbconvert_exporter": "python",
   "pygments_lexer": "ipython3",
   "version": "3.6.6"
  }
 },
 "nbformat": 4,
 "nbformat_minor": 2
}
