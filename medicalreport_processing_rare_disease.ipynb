{
 "cells": [
  {
   "cell_type": "code",
   "execution_count": 43,
   "metadata": {},
   "outputs": [],
   "source": [
    "import matplotlib.pyplot as plt\n",
    "import numpy as np\n",
    "import os\n",
    "import pickle"
   ]
  },
  {
   "cell_type": "code",
   "execution_count": 44,
   "metadata": {},
   "outputs": [
    {
     "name": "stdout",
     "output_type": "stream",
     "text": [
      "(<type 'list'>, <type 'list'>, <type 'list'>, <type 'list'>)\n",
      "(6371, 3563, 3563, 6371)\n",
      "(6371, 3563, 3563, 6371)\n"
     ]
    }
   ],
   "source": [
    "fname_symptom = 'databases' + os.sep + 'orphadata' + os.sep + 'symptoms_HPO.dat'\n",
    "fname_disease = 'databases' + os.sep + 'orphadata' + os.sep + 'diseases_HPO.dat'\n",
    "fname_arr = 'databases' + os.sep + 'orphadata' + os.sep + 'matrix_HPO.dat'\n",
    "fname_symptom_patient = 'databases' + os.sep + 'orphadata' + os.sep + 'rare_symptom_vector_HPO.dat'\n",
    "\n",
    "def read_pickle(fname):\n",
    "    with open(fname, 'rb') as f:\n",
    "        x = pickle.load(f)\n",
    "    return x\n",
    "\n",
    "symptoms = read_pickle(fname_symptom)\n",
    "diseases = read_pickle(fname_disease)\n",
    "symptom_disease_arr = read_pickle(fname_arr)\n",
    "patient_symptoms = read_pickle(fname_symptom_patient)\n",
    "print(type(symptoms), type(diseases), type(symptom_disease_arr), type(symptom_disease_arr[0]))\n",
    "print(len(symptoms), len(diseases), len(symptom_disease_arr), len(symptom_disease_arr[0]))\n",
    "print(len(patient_symptoms), len(diseases), len(symptom_disease_arr), len(symptom_disease_arr[0]))"
   ]
  },
  {
   "cell_type": "code",
   "execution_count": 50,
   "metadata": {},
   "outputs": [
    {
     "name": "stdout",
     "output_type": "stream",
     "text": [
      "(3563, 6371)\n",
      "(array([1., 1., 1., ..., 1., 1., 1.]), 0.9999999999999996, 1.0000000000000004)\n"
     ]
    }
   ],
   "source": [
    "row_normalize = True\n",
    "B = np.array(symptom_disease_arr)\n",
    "\n",
    "print(B.shape)\n",
    "n_disease = B.shape[0]\n",
    "n_symptom = B.shape[1]\n",
    "assert B.shape[0] == 3563\n",
    "\n",
    "if row_normalize:\n",
    "    row_sums = B.sum(axis=1)\n",
    "    B_norm = B / row_sums[:, np.newaxis]\n",
    "    row_sums = B_norm.sum(axis=1)\n",
    "    print (row_sums, np.min(row_sums), np.max(row_sums))"
   ]
  },
  {
   "cell_type": "code",
   "execution_count": 51,
   "metadata": {},
   "outputs": [
    {
     "data": {
      "image/png": "[encoded data removed]",
      "text/plain": [
       "<Figure size 432x288 with 1 Axes>"
      ]
     },
     "metadata": {
      "needs_background": "light"
     },
     "output_type": "display_data"
    },
    {
     "data": {
      "image/png": "[encoded data removed]",
      "text/plain": [
       "<Figure size 432x288 with 1 Axes>"
      ]
     },
     "metadata": {
      "needs_background": "light"
     },
     "output_type": "display_data"
    }
   ],
   "source": [
    "plt.hist(np.dot(B, np.ones(n_symptom)), bins=100)\n",
    "plt.show()\n",
    "\n",
    "plt.hist(np.dot(B.T, np.ones(n_disease)), bins=100)\n",
    "plt.show()"
   ]
  },
  {
   "cell_type": "code",
   "execution_count": 52,
   "metadata": {},
   "outputs": [],
   "source": [
    "diseases_patient = np.dot(B, patient_symptoms)\n",
    "\n",
    "sorted_diseases = np.argsort(diseases_patient)[::-1]"
   ]
  },
  {
   "cell_type": "code",
   "execution_count": 53,
   "metadata": {},
   "outputs": [
    {
     "data": {
      "text/plain": [
       "[<matplotlib.lines.Line2D at 0x7f132b9d43d0>]"
      ]
     },
     "execution_count": 53,
     "metadata": {},
     "output_type": "execute_result"
    },
    {
     "data": {
      "image/png": "[encoded data removed]",
      "text/plain": [
       "<Figure size 432x288 with 1 Axes>"
      ]
     },
     "metadata": {
      "needs_background": "light"
     },
     "output_type": "display_data"
    }
   ],
   "source": [
    "plt.plot(diseases_patient)"
   ]
  },
  {
   "cell_type": "code",
   "execution_count": 54,
   "metadata": {},
   "outputs": [
    {
     "name": "stdout",
     "output_type": "stream",
     "text": [
      "Diseases from symptom vector\n",
      "('Rank 0', 'Mitochondrial neurogastrointestinal encephalomyopathy', 5.4)\n",
      "('Rank 1', 'Acute intermittent porphyria', 4.5)\n",
      "('Rank 2', 'Aggressive systemic mastocytosis', 4.0)\n",
      "('Rank 3', 'Williams syndrome', 3.8000000000000003)\n",
      "('Rank 4', 'Addison disease', 3.6)\n",
      "('Rank 5', 'Rabies', 3.6)\n",
      "('Rank 6', 'Late-onset isolated ACTH deficiency', 3.6)\n",
      "('Rank 7', 'Acute adrenal insufficiency', 3.6)\n",
      "('Rank 8', 'Hereditary coproporphyria', 3.6)\n",
      "('Rank 9', 'Lynch syndrome', 3.45)\n"
     ]
    }
   ],
   "source": [
    "print(\"Diseases from symptom vector\")\n",
    "for idx in range(10):\n",
    "    print('Rank %d' % idx, diseases[sorted_diseases[idx]], diseases_patient[sorted_diseases[idx]])"
   ]
  },
  {
   "cell_type": "code",
   "execution_count": null,
   "metadata": {},
   "outputs": [],
   "source": []
  }
 ],
 "metadata": {
  "kernelspec": {
   "display_name": "Python 2",
   "language": "python",
   "name": "python2"
  },
  "language_info": {
   "codemirror_mode": {
    "name": "ipython",
    "version": 2
   },
   "file_extension": ".py",
   "mimetype": "text/x-python",
   "name": "python",
   "nbconvert_exporter": "python",
   "pygments_lexer": "ipython2",
   "version": "2.7.15rc1"
  }
 },
 "nbformat": 4,
 "nbformat_minor": 2
}
