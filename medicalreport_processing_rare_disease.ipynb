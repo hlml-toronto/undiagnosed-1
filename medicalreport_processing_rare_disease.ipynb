{
 "cells": [
  {
   "cell_type": "code",
   "execution_count": 25,
   "metadata": {},
   "outputs": [],
   "source": [
    "import matplotlib.pyplot as plt\n",
    "import numpy as np\n",
    "import os\n",
    "import pickle"
   ]
  },
  {
   "cell_type": "code",
   "execution_count": 26,
   "metadata": {},
   "outputs": [
    {
     "name": "stdout",
     "output_type": "stream",
     "text": [
      "<class 'list'> <class 'list'> <class 'list'> <class 'list'>\n",
      "6371 3563 3563 6371\n",
      "6371 3563 3563 6371\n"
     ]
    }
   ],
   "source": [
    "fname_symptom = 'databases' + os.sep + 'orphadata' + os.sep + 'symptoms_HPO.dat'\n",
    "fname_disease = 'databases' + os.sep + 'orphadata' + os.sep + 'diseases_HPO.dat'\n",
    "fname_arr = 'databases' + os.sep + 'orphadata' + os.sep + 'matrix_HPO.dat'\n",
    "fname_symptom_patient = 'databases' + os.sep + 'orphadata' + os.sep + 'rare_symptom_vector_HPO.dat'\n",
    "\n",
    "def read_pickle(fname):\n",
    "    with open(fname, 'rb') as f:\n",
    "        x = pickle.load(f)\n",
    "    return x\n",
    "\n",
    "symptoms = read_pickle(fname_symptom)\n",
    "diseases = read_pickle(fname_disease)\n",
    "symptom_disease_arr = read_pickle(fname_arr)\n",
    "patient_symptoms = read_pickle(fname_symptom_patient)\n",
    "print(type(symptoms), type(diseases), type(symptom_disease_arr), type(symptom_disease_arr[0]))\n",
    "print(len(symptoms), len(diseases), len(symptom_disease_arr), len(symptom_disease_arr[0]))\n",
    "print(len(patient_symptoms), len(diseases), len(symptom_disease_arr), len(symptom_disease_arr[0]))"
   ]
  },
  {
   "cell_type": "code",
   "execution_count": 46,
   "metadata": {},
   "outputs": [
    {
     "name": "stdout",
     "output_type": "stream",
     "text": [
      "(3563, 6371)\n",
      "[1. 1. 1. ... 1. 1. 1.] 0.9999999999999996 1.0000000000000004\n",
      "False\n"
     ]
    }
   ],
   "source": [
    "row_normalize = True\n",
    "B = np.array(symptom_disease_arr)\n",
    "C = np.array(symptom_disease_arr)\n",
    "\n",
    "print(B.shape)\n",
    "n_disease = B.shape[0]\n",
    "n_symptom = B.shape[1]\n",
    "assert B.shape[0] == 3563\n",
    "\n",
    "if row_normalize:\n",
    "    row_sums = B.sum(axis=1)\n",
    "    B_norm = B / row_sums[:, np.newaxis]\n",
    "    row_sums = B_norm.sum(axis=1)\n",
    "    B = B_norm\n",
    "    print (row_sums, np.min(row_sums), np.max(row_sums))\n",
    "    \n",
    "print( (B==C).all() )"
   ]
  },
  {
   "cell_type": "code",
   "execution_count": null,
   "metadata": {},
   "outputs": [],
   "source": [
    "plt.hist(np.dot(B, np.ones(n_symptom)), bins=100)\n",
    "plt.show()\n",
    "\n",
    "plt.hist(np.dot(B.T, np.ones(n_disease)), bins=100)\n",
    "plt.show()\n",
    "\n",
    "plt.hist(np.dot(C, np.ones(n_symptom)), bins=100)\n",
    "plt.show()\n",
    "\n",
    "plt.hist(np.dot(C.T, np.ones(n_disease)), bins=100)\n",
    "plt.show()"
   ]
  },
  {
   "cell_type": "code",
   "execution_count": 43,
   "metadata": {},
   "outputs": [],
   "source": [
    "diseases_patient_norm = np.dot(B, patient_symptoms)\n",
    "\n",
    "sorted_diseases_norm = np.argsort(diseases_patient_norm)[::-1]\n",
    "\n",
    "diseases_patient = np.dot(C, patient_symptoms)\n",
    "\n",
    "sorted_diseases = np.argsort(diseases_patient)[::-1]"
   ]
  },
  {
   "cell_type": "code",
   "execution_count": 44,
   "metadata": {},
   "outputs": [
    {
     "data": {
      "image/png": "[encoded data removed]",
      "text/plain": [
       "<Figure size 432x288 with 1 Axes>"
      ]
     },
     "metadata": {
      "needs_background": "light"
     },
     "output_type": "display_data"
    },
    {
     "data": {
      "image/png": "[encoded data removed]",
      "text/plain": [
       "<Figure size 432x288 with 1 Axes>"
      ]
     },
     "metadata": {
      "needs_background": "light"
     },
     "output_type": "display_data"
    }
   ],
   "source": [
    "plt.plot(diseases_patient)\n",
    "plt.show()\n",
    "\n",
    "plt.plot(diseases_patient_norm)\n",
    "plt.show()"
   ]
  },
  {
   "cell_type": "code",
   "execution_count": 40,
   "metadata": {},
   "outputs": [
    {
     "name": "stdout",
     "output_type": "stream",
     "text": [
      "Diseases from symptom vector\n",
      "Rank 0 Mitochondrial neurogastrointestinal encephalomyopathy 5.4\n",
      "Rank 1 Acute intermittent porphyria 4.5\n",
      "Rank 2 Aggressive systemic mastocytosis 4.0\n",
      "Rank 3 Williams syndrome 3.8\n",
      "Rank 4 Addison disease 3.6\n",
      "Rank 5 Acute adrenal insufficiency 3.6\n",
      "Rank 6 Late-onset isolated ACTH deficiency 3.6\n",
      "Rank 7 Hereditary coproporphyria 3.6\n",
      "Rank 8 Rabies 3.6\n",
      "Rank 9 Lynch syndrome 3.45\n",
      " ==== ==== \n",
      "Diseases from symptom vector normalized\n",
      "Rank 0 Mitochondrial neurogastrointestinal encephalomyopathy 5.4\n",
      "Rank 1 Acute intermittent porphyria 4.5\n",
      "Rank 2 Aggressive systemic mastocytosis 4.0\n",
      "Rank 3 Williams syndrome 3.8\n",
      "Rank 4 Addison disease 3.6\n",
      "Rank 5 Acute adrenal insufficiency 3.6\n",
      "Rank 6 Late-onset isolated ACTH deficiency 3.6\n",
      "Rank 7 Hereditary coproporphyria 3.6\n",
      "Rank 8 Rabies 3.6\n",
      "Rank 9 Lynch syndrome 3.45\n"
     ]
    }
   ],
   "source": [
    "print(\"Diseases from symptom vector\")\n",
    "for idx in range(10):\n",
    "    print('Rank %d' % idx, diseases[sorted_diseases[idx]], diseases_patient[sorted_diseases[idx]])\n",
    "    \n",
    "print(\" ==== ==== \")\n",
    "print(\"Diseases from symptom vector normalized\")\n",
    "for idx in range(10):\n",
    "    print('Rank %d' % idx, diseases[sorted_diseases_norm[idx]], diseases_patient_norm[sorted_diseases_norm[idx]])"
   ]
  },
  {
   "cell_type": "code",
   "execution_count": null,
   "metadata": {},
   "outputs": [],
   "source": []
  }
 ],
 "metadata": {
  "kernelspec": {
   "display_name": "Python 2",
   "language": "python",
   "name": "python2"
  },
  "language_info": {
   "codemirror_mode": {
    "name": "ipython",
    "version": 3
   },
   "file_extension": ".py",
   "mimetype": "text/x-python",
   "name": "python",
   "nbconvert_exporter": "python",
   "pygments_lexer": "ipython3",
   "version": "3.7.1"
  }
 },
 "nbformat": 4,
 "nbformat_minor": 2
}
